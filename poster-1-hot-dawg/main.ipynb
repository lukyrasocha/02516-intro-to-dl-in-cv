{
 "cells": [
  {
   "cell_type": "markdown",
   "metadata": {},
   "source": [
    "## Hot Dog not a Hot Dog\n",
    "\n",
    "#### Authors: ...."
   ]
  },
  {
   "cell_type": "markdown",
   "metadata": {},
   "source": [
    "#### Imports"
   ]
  },
  {
   "cell_type": "code",
   "execution_count": 241,
   "metadata": {},
   "outputs": [],
   "source": [
    "import torch.nn.functional as F\n",
    "import numpy as np\n",
    "import matplotlib.pyplot as plt\n",
    "from tqdm.notebook import tqdm\n",
    "import torch\n",
    "import torch.nn as nn\n",
    "from torch.utils.data import DataLoader, random_split\n",
    "import torchvision.transforms as transforms\n",
    "import numpy as np\n",
    "import os\n",
    "import random\n",
    "import glob\n",
    "from PIL import Image"
   ]
  },
  {
   "cell_type": "markdown",
   "metadata": {},
   "source": [
    "#### Utils"
   ]
  },
  {
   "cell_type": "code",
   "execution_count": 242,
   "metadata": {},
   "outputs": [],
   "source": [
    "class Hotdog_NotHotdog(torch.utils.data.Dataset):\n",
    "    def __init__(self, train, transform, data_path):\n",
    "        'Initialization'\n",
    "        self.transform = transform\n",
    "        data_path = os.path.join(data_path, 'train' if train else 'test')\n",
    "        image_classes = [os.path.split(d)[1] for d in glob.glob(data_path + '/*') if os.path.isdir(d)]\n",
    "        image_classes.sort()\n",
    "        self.name_to_label = {c: id for id, c in enumerate(image_classes)}\n",
    "        self.image_paths = glob.glob(data_path + '/*/*.jpg')\n",
    "\n",
    "    def __len__(self):\n",
    "        'Returns the total number of samples'\n",
    "        return len(self.image_paths)\n",
    "\n",
    "    def __getitem__(self, idx):\n",
    "        'Generates one sample of data'\n",
    "        image_path = self.image_paths[idx]\n",
    "        image = Image.open(image_path).convert('RGB')  # Ensure 3 channels\n",
    "        c = os.path.split(os.path.split(image_path)[0])[1]\n",
    "        y = self.name_to_label[c]\n",
    "        X = self.transform(image)\n",
    "        return X, y\n",
    "\n",
    "\n",
    "def set_plot_style():\n",
    "    plt.rcParams['axes.prop_cycle'] = plt.cycler(color=['#990000', '#2F3EEA', '#030F4F'])\n",
    "    plt.rcParams['figure.facecolor'] = 'white'\n",
    "    plt.rcParams['axes.grid'] = True\n",
    "    plt.rcParams['grid.color'] = '#d3d3d3'\n",
    "\n",
    "\n",
    "def visualize_samples(train_loader):\n",
    "    images, labels = next(iter(train_loader))\n",
    "    plt.figure(figsize=(20, 10))\n",
    "    color_primary = '#990000'  # University red\n",
    "    color_secondary = '#2F3EEA'  # University blue\n",
    "\n",
    "    for i in range(min(4, len(images))):\n",
    "        plt.subplot(1, 4, i+1)\n",
    "        plt.imshow(np.transpose(images[i].numpy(), (1, 2, 0)))\n",
    "        plt.title(['Hotdog', 'Not Hotdog'][labels[i].item()], color=color_primary)\n",
    "        plt.axis('off')\n",
    "\n",
    "    plt.suptitle('Sample Training Images', fontsize=24, color=color_secondary)\n",
    "    plt.tight_layout()\n",
    "    plt.show()\n",
    "\n",
    "\n",
    "def plot_training_curves(nn_out):\n",
    "    epochs = len(nn_out['train_acc'])\n",
    "    epoch_range = range(1, epochs + 1)\n",
    "\n",
    "    # Set up university colors\n",
    "    color_primary = '#990000'  # University red\n",
    "    color_secondary = '#2F3EEA'  # University blue\n",
    "    color_accent = '#030F4F'  # Dark blue\n",
    "\n",
    "    plt.figure(figsize=(18, 10))\n",
    "\n",
    "    # Plot Loss\n",
    "    plt.subplot(2, 1, 1)\n",
    "    plt.plot(epoch_range, nn_out['train_loss'], label='NN Train Loss', color=color_primary, linestyle='-')\n",
    "    if 'val_loss' in nn_out:\n",
    "        plt.plot(epoch_range, nn_out['val_loss'], label='NN Val Loss', color=color_primary, linestyle='--')\n",
    "        plt.title('Training and Validation Loss', fontsize=16, color=color_accent)\n",
    "    else:\n",
    "        plt.plot(epoch_range, nn_out['test_loss'], label='NN Test Loss', color=color_primary, linestyle='--')\n",
    "        plt.title('Training and Test Loss', fontsize=16, color=color_accent)\n",
    "    plt.title('Training and Validation Loss', fontsize=16, color=color_accent)\n",
    "    plt.xlabel('Epoch', fontsize=14)\n",
    "    plt.ylabel('Loss', fontsize=14)\n",
    "    plt.legend(fontsize=12)\n",
    "    plt.grid(True)\n",
    "\n",
    "    # Plot Accuracy\n",
    "    plt.subplot(2, 1, 2)\n",
    "    plt.plot(epoch_range, [acc * 100 for acc in nn_out['train_acc']],\n",
    "             label='NN Train Acc', color=color_secondary, linestyle='-')\n",
    "    if 'val_acc' in nn_out:\n",
    "        plt.plot(epoch_range, [acc * 100 for acc in nn_out['val_acc']],\n",
    "                 label='NN Val Acc', color=color_secondary, linestyle='--')\n",
    "        plt.title('Training and Validation Accuracy', fontsize=16, color=color_accent)\n",
    "    else:\n",
    "        plt.plot(epoch_range, [acc * 100 for acc in nn_out['test_acc']],\n",
    "                 label='NN Test Acc', color=color_secondary, linestyle='--')\n",
    "        plt.title('Training and Validation Accuracy', fontsize=16, color=color_accent)\n",
    "\n",
    "    plt.title('Training and Validation Accuracy', fontsize=16, color=color_accent)\n",
    "    plt.xlabel('Epoch', fontsize=14)\n",
    "    plt.ylabel('Accuracy (%)', fontsize=14)\n",
    "    plt.ylim(0, 100)\n",
    "    plt.legend(fontsize=12)\n",
    "    plt.grid(True)\n",
    "\n",
    "    plt.tight_layout()\n",
    "\n",
    "    plt.savefig('figures/train_baseline.png')\n",
    "    plt.show()\n",
    "\n",
    "\n",
    "def load_data(data_path, batch_size, image_size, validation_split=0.2, verbose=True):\n",
    "\n",
    "    data_dir = data_path\n",
    "    size = image_size \n",
    "\n",
    "    train_transform = transforms.Compose([\n",
    "        transforms.Resize((size, size)),\n",
    "        transforms.ToTensor()\n",
    "    ])\n",
    "    test_transform = transforms.Compose([\n",
    "        transforms.Resize((size, size)),\n",
    "        transforms.ToTensor()\n",
    "    ])\n",
    "\n",
    "    full_trainset = Hotdog_NotHotdog(train=True, transform=train_transform, data_path=data_dir)\n",
    "    testset = Hotdog_NotHotdog(train=False, transform=test_transform, data_path=data_dir)\n",
    "\n",
    "    total_train = len(full_trainset)\n",
    "    val_size = int(total_train * validation_split)\n",
    "    train_size = total_train - val_size\n",
    "\n",
    "    # Split the dataset\n",
    "    train_subset, val_subset = random_split(full_trainset, [train_size, val_size])\n",
    "\n",
    "    # Create DataLoaders\n",
    "    train_loader = DataLoader(train_subset, batch_size=batch_size, shuffle=True, num_workers=0)\n",
    "    val_loader = DataLoader(val_subset, batch_size=batch_size, shuffle=False, num_workers=0)\n",
    "    test_loader = DataLoader(testset, batch_size=batch_size, shuffle=False, num_workers=0)\n",
    "\n",
    "    if verbose:\n",
    "        print(f'The number of images in training set is: {len(train_subset)}')\n",
    "        print(f'The number of images in validation set is: {len(val_subset)}')\n",
    "        print(f'The number of images in test set is: {len(testset)}')\n",
    "\n",
    "\n",
    "    return train_loader, val_loader, test_loader\n",
    "\n",
    "def evaluate_on_test(model, device, test_loader):\n",
    "    model.eval()  # Set the model to evaluation mode\n",
    "    test_correct = 0\n",
    "    total_samples = len(test_loader.dataset)\n",
    "\n",
    "    with torch.no_grad():\n",
    "        for data, target in test_loader:\n",
    "            data, target = data.to(device), target.to(device).float().unsqueeze(1)\n",
    "            output = model(data)\n",
    "            predicted = (torch.sigmoid(output) > 0.5).float()\n",
    "            test_correct += (predicted == target).sum().cpu().item()\n",
    "\n",
    "    test_accuracy = test_correct / total_samples\n",
    "\n",
    "    print(\"=\"*60)\n",
    "    print(f\"Test Accuracy: {test_accuracy * 100:.1f}%\")\n",
    "    print(\"=\"*60)\n",
    "\n",
    "    return test_accuracy"
   ]
  },
  {
   "cell_type": "markdown",
   "metadata": {},
   "source": [
    "#### Feature map visualization"
   ]
  },
  {
   "cell_type": "code",
   "execution_count": 243,
   "metadata": {},
   "outputs": [],
   "source": [
    "def visualize_feature_maps(model, device, data_loader, cut, num_images=1, save_fig=False):\n",
    "    model.eval()\n",
    "    images_displayed = 0\n",
    "    data_iter = iter(data_loader)\n",
    "    \n",
    "    while images_displayed < num_images:\n",
    "        try:\n",
    "            images, labels = next(data_iter)\n",
    "        except StopIteration:\n",
    "            # If we reach the end of the loader, re-initialize it\n",
    "            data_iter = iter(data_loader)\n",
    "            images, labels = next(data_iter)\n",
    "        \n",
    "        batch_size = images.size(0)\n",
    "        for i in range(batch_size):\n",
    "            if images_displayed >= num_images:\n",
    "                break\n",
    "            \n",
    "            image = images[i].to(device).unsqueeze(0)  # Add a batch dimension\n",
    "            label = labels[i]\n",
    "            \n",
    "            output = model.forward(image, cut=cut)\n",
    "            \n",
    "            tensor = output.detach().cpu().numpy()\n",
    "            \n",
    "            tensor_squeezed = tensor.squeeze(0)\n",
    "            num_channels = tensor_squeezed.shape[0]\n",
    "            \n",
    "            grid_cols = int(np.ceil(np.sqrt(num_channels)))\n",
    "            grid_rows = int(np.ceil(num_channels / grid_cols))\n",
    "            \n",
    "            fig_width = grid_cols * 2  # 2 inches per subplot\n",
    "            fig_height = grid_rows * 2\n",
    "            fig, axs = plt.subplots(grid_rows, grid_cols, figsize=(fig_width, fig_height))\n",
    "            \n",
    "            axs = axs.flatten()\n",
    "            for idx in range(num_channels):\n",
    "                axs[idx].imshow(tensor_squeezed[idx], cmap='gray')\n",
    "                axs[idx].set_title(f'Channel {idx+1}')\n",
    "                axs[idx].axis('off')  # Turn off the axis labels\n",
    "            \n",
    "            for idx in range(num_channels, len(axs)):\n",
    "                axs[idx].axis('off')\n",
    "            \n",
    "            plt.suptitle(f'Feature Maps at Cut {cut} for Image {images_displayed+1}')\n",
    "            plt.tight_layout()\n",
    "            \n",
    "            if save_fig:\n",
    "                plt.savefig(f'feature_maps_cut{cut}_image{images_displayed+1}.png', dpi=300)\n",
    "            \n",
    "            plt.show()\n",
    "            images_displayed += 1"
   ]
  },
  {
   "cell_type": "markdown",
   "metadata": {},
   "source": [
    "#### SmoothGrad"
   ]
  },
  {
   "cell_type": "code",
   "execution_count": 244,
   "metadata": {},
   "outputs": [],
   "source": [
    "def smooth_grad(model, image, label, device, mean=None, std=None, normalize_input=False, stdev_spread=0.15, n_samples=25, magnitude=True):\n",
    "    model.eval()\n",
    "    image = image.to(device).unsqueeze(0)  # Add batch dimension\n",
    "    image.requires_grad = True\n",
    "\n",
    "    input_to_model = image  # Image is already normalized\n",
    "\n",
    "    total_gradients = torch.zeros_like(image)\n",
    "\n",
    "    for i in range(n_samples):\n",
    "        # Generate noise\n",
    "        stdev = stdev_spread * (input_to_model.max() - input_to_model.min()).item()\n",
    "        if stdev == 0:\n",
    "            stdev = stdev_spread\n",
    "        noise = torch.normal(0, stdev, size=input_to_model.size()).to(device)\n",
    "        noisy_input = input_to_model + noise\n",
    "\n",
    "        # Forward pass\n",
    "        output = model(noisy_input)\n",
    "\n",
    "        # Adjust the label shape\n",
    "        adjusted_label = label.to(device).float().unsqueeze(0).unsqueeze(1)\n",
    "\n",
    "        # Compute loss\n",
    "        loss = F.binary_cross_entropy_with_logits(output, adjusted_label)\n",
    "\n",
    "        # Backward pass\n",
    "        model.zero_grad()\n",
    "        image.grad.zero_()\n",
    "        loss.backward()\n",
    "\n",
    "        # Get gradients\n",
    "        gradients = image.grad.clone()\n",
    "\n",
    "        if magnitude:\n",
    "            gradients = gradients.abs()\n",
    "\n",
    "        total_gradients += gradients\n",
    "\n",
    "    # Average the gradients\n",
    "    avg_gradients = total_gradients / n_samples\n",
    "    return avg_gradients.squeeze().cpu().detach().numpy()\n",
    "def visualize_saliency_maps(model, device, data_loader, number_of_images=4, mean=None, std=None, normalize_input=False):\n",
    "    model.eval()\n",
    "    images_displayed = 0\n",
    "    data_iter = iter(data_loader)\n",
    "    total_images = len(data_loader.dataset)\n",
    "\n",
    "    # Create a figure with appropriate size\n",
    "    fig, axes = plt.subplots(number_of_images, 2, figsize=(12, 6 * number_of_images))\n",
    "\n",
    "    while images_displayed < number_of_images:\n",
    "        try:\n",
    "            images, labels = next(data_iter)\n",
    "        except StopIteration:\n",
    "            # If we reach the end of the loader, re-initialize it\n",
    "            data_iter = iter(data_loader)\n",
    "            images, labels = next(data_iter)\n",
    "\n",
    "        batch_size = images.size(0)\n",
    "        for i in range(batch_size):\n",
    "            if images_displayed >= number_of_images:\n",
    "                break\n",
    "\n",
    "            image = images[i]\n",
    "            label = labels[i]\n",
    "\n",
    "            # Compute the saliency map using SmoothGrad\n",
    "            saliency = smooth_grad(\n",
    "                model=model,\n",
    "                image=image,\n",
    "                label=label,\n",
    "                device=device,\n",
    "                mean=mean,\n",
    "                std=std,\n",
    "                normalize_input=normalize_input\n",
    "            )\n",
    "\n",
    "            # Plot original image\n",
    "            ax_img = axes[images_displayed, 0] if number_of_images > 1 else axes[0]\n",
    "            image_np = image.permute(1, 2, 0).cpu().numpy()\n",
    "            image_np = (image_np - image_np.min()) / (image_np.max() - image_np.min())\n",
    "            ax_img.imshow(image_np)\n",
    "            ax_img.axis('off')\n",
    "            ax_img.set_title('Original Image')\n",
    "\n",
    "            # Plot saliency map\n",
    "            ax_sal = axes[images_displayed, 1] if number_of_images > 1 else axes[1]\n",
    "            visualize_saliency_map(image.cpu(), saliency, ax=ax_sal)\n",
    "            ax_sal.set_title('Saliency Map')\n",
    "\n",
    "            images_displayed += 1\n",
    "\n",
    "        if images_displayed >= number_of_images:\n",
    "            break\n",
    "\n",
    "    plt.tight_layout()\n",
    "    plt.show()\n",
    "def visualize_saliency_map(image, saliency_map, ax=None):\n",
    "    # Convert tensors to numpy arrays\n",
    "    image = image.permute(1, 2, 0).cpu().numpy()  # Shape: (H, W, 3)\n",
    "    image = (image - image.min()) / (image.max() - image.min())  # Normalize for display\n",
    "\n",
    "    # Compute the L2 norm across color channels if saliency_map has 3 channels\n",
    "    if saliency_map.ndim == 3:\n",
    "        saliency_map = np.sqrt(np.sum(saliency_map ** 2, axis=0))  # Shape: (H, W)\n",
    "\n",
    "    # Handle potential division by zero\n",
    "    saliency_min = saliency_map.min()\n",
    "    saliency_max = saliency_map.max()\n",
    "    if saliency_max - saliency_min > 0:\n",
    "        saliency_map = (saliency_map - saliency_min) / (saliency_max - saliency_min)\n",
    "    else:\n",
    "        saliency_map = np.zeros_like(saliency_map)\n",
    "\n",
    "    # Plot\n",
    "    if ax is None:\n",
    "        ax = plt.gca()\n",
    "    ax.imshow(image)\n",
    "    ax.imshow(saliency_map, cmap='jet', alpha=0.5)\n",
    "    ax.axis('off')"
   ]
  },
  {
   "cell_type": "markdown",
   "metadata": {},
   "source": [
    "##### Models"
   ]
  },
  {
   "cell_type": "code",
   "execution_count": 224,
   "metadata": {},
   "outputs": [],
   "source": [
    "class SimpleNN(nn.Module):\n",
    "    def __init__(self):\n",
    "        super(SimpleNN, self).__init__()\n",
    "        self.flatten = nn.Flatten()\n",
    "        self.fc1 = nn.Linear(128 * 128 * 3, 512)  # 128x128 RGB images\n",
    "        self.relu1 = nn.ReLU()\n",
    "        self.dropout1 = nn.Dropout(0.5)\n",
    "        self.fc2 = nn.Linear(512, 256)\n",
    "        self.relu2 = nn.ReLU()\n",
    "        self.dropout2 = nn.Dropout(0.5)\n",
    "        self.fc3 = nn.Linear(256, 1)  # Single output node for binary classification\n",
    "\n",
    "    def forward(self, x):\n",
    "        x = self.flatten(x)\n",
    "        x = self.fc1(x)\n",
    "        x = self.relu1(x)\n",
    "        x = self.dropout1(x)\n",
    "        x = self.fc2(x)\n",
    "        x = self.relu2(x)\n",
    "        x = self.dropout2(x)\n",
    "        x = self.fc3(x)\n",
    "        return x\n",
    "\n",
    "class ChunkyBoyCut(nn.Module):\n",
    "    def __init__(self):\n",
    "        super(ChunkyBoyCut, self).__init__()\n",
    "        self.convolutional1 = nn.Sequential(\n",
    "            nn.Conv2d(in_channels=3, out_channels=8, kernel_size=3, padding=1),\n",
    "            nn.BatchNorm2d(8)\n",
    "        )\n",
    "        self.convolutional2 = nn.Sequential(\n",
    "            nn.ReLU(),\n",
    "            nn.Conv2d(in_channels=8, out_channels=32, kernel_size=3, padding=1),\n",
    "            nn.BatchNorm2d(32)\n",
    "        )\n",
    "        self.convolutional3 = nn.Sequential(\n",
    "            nn.ReLU(),\n",
    "            nn.MaxPool2d(2),\n",
    "            nn.Conv2d(in_channels=32, out_channels=64, kernel_size=3, padding=1),\n",
    "            nn.BatchNorm2d(64)\n",
    "        )\n",
    "        self.convolutional4 = nn.Sequential(\n",
    "            nn.ReLU(),\n",
    "            nn.Conv2d(in_channels=64, out_channels=64, kernel_size=3, padding=1),\n",
    "            nn.BatchNorm2d(64)\n",
    "        )\n",
    "        self.convolutionalrest = nn.Sequential(\n",
    "            nn.ReLU(),\n",
    "            nn.MaxPool2d(2),\n",
    "        )\n",
    "\n",
    "        self.fully_connected = nn.Sequential(\n",
    "            nn.Dropout(0.7),\n",
    "            nn.Linear(56 * 56 * 64, 256),\n",
    "            nn.ReLU(),\n",
    "            nn.Dropout(0.7),\n",
    "            nn.Linear(256, 1)\n",
    "        )\n",
    "\n",
    "    def forward(self, x, cut=0):\n",
    "        x = self.convolutional1(x)\n",
    "        if cut == 1:\n",
    "            return x\n",
    "        x = self.convolutional2(x)\n",
    "        if cut == 2:\n",
    "            return x\n",
    "        x = self.convolutional3(x)\n",
    "        if cut == 3:\n",
    "            return x\n",
    "        x = self.convolutional4(x)\n",
    "        if cut == 4:\n",
    "            return x\n",
    "        x = self.convolutionalrest(x)\n",
    "        x = x.view(x.size(0), -1)  # Flatten the tensor\n",
    "        x = self.fully_connected(x)\n",
    "        return x"
   ]
  },
  {
   "cell_type": "markdown",
   "metadata": {},
   "source": [
    "##### Baseline"
   ]
  },
  {
   "cell_type": "code",
   "execution_count": 225,
   "metadata": {},
   "outputs": [],
   "source": [
    "def train_baseline(model, optimizer, device, train_loader, val_loader, num_epochs=10):\n",
    "    loss_fun = nn.BCEWithLogitsLoss()\n",
    "\n",
    "    out_dict = {'train_acc': [],\n",
    "                'val_acc': [],\n",
    "                'train_loss': [],\n",
    "                'val_loss': []}\n",
    "\n",
    "    for epoch in tqdm(range(num_epochs), unit='epoch'):\n",
    "        model.train()\n",
    "        train_correct = 0\n",
    "        train_incorrect = 0\n",
    "        train_loss = []\n",
    "        for minibatch_no, (data, target) in tqdm(enumerate(train_loader), total=len(train_loader), leave=False):\n",
    "\n",
    "            data, target = data.to(device), target.to(device).float().unsqueeze(1)\n",
    "            optimizer.zero_grad()\n",
    "            output = model(data)\n",
    "            loss = loss_fun(output, target)\n",
    "            loss.backward()\n",
    "            optimizer.step()\n",
    "\n",
    "            train_loss.append(loss.item())\n",
    "            predicted = (torch.sigmoid(output) > 0.5).float()\n",
    "            train_correct += (target == predicted).sum().cpu().item()\n",
    "            train_incorrect += (target != predicted).sum().cpu().item()\n",
    "\n",
    "        # Compute the training accuracy and loss\n",
    "        train_length = len(train_loader.dataset)\n",
    "        train_acc = train_correct / train_length\n",
    "        train_avg_loss = np.mean(train_loss)\n",
    "        out_dict['train_acc'].append(train_acc)\n",
    "        out_dict['train_loss'].append(train_avg_loss)\n",
    "\n",
    "        # Evaluate on validation set\n",
    "        model.eval()\n",
    "        val_loss = []\n",
    "        val_correct = 0\n",
    "        with torch.no_grad():\n",
    "            for data, target in val_loader:\n",
    "                data, target = data.to(device), target.to(device).float().unsqueeze(1)\n",
    "                output = model(data)\n",
    "                loss = loss_fun(output, target)\n",
    "                val_loss.append(loss.item())\n",
    "                predicted = (torch.sigmoid(output) > 0.5).float()\n",
    "                val_correct += (target == predicted).sum().cpu().item()\n",
    "\n",
    "        val_length = len(val_loader.dataset)\n",
    "        val_acc = val_correct / val_length\n",
    "        val_avg_loss = np.mean(val_loss)\n",
    "        out_dict['val_acc'].append(val_acc)\n",
    "        out_dict['val_loss'].append(val_avg_loss)\n",
    "\n",
    "        print(f\"Epoch {epoch+1}/{num_epochs} - \"\n",
    "              f\"Loss train: {train_avg_loss:.3f}\\t Val loss: {val_avg_loss:.3f}\\t\"\n",
    "              f\"Accuracy train: {train_acc*100:.1f}%\\t Val: {val_acc*100:.1f}%\")\n",
    "    return out_dict, model\n",
    "\n",
    "\n",
    "def main_baseline(device, train_loader, val_loader, test_loader, num_epochs=10):\n",
    "\n",
    "\n",
    "    # Model setup\n",
    "    nn_model = SimpleNN().to(device)\n",
    "    nn_optimizer = torch.optim.Adam(nn_model.parameters(), lr=0.0001)\n",
    "\n",
    "    print('-'*60)\n",
    "    print(\"👮‍♂️ Training Baseline Model:\")\n",
    "    print('-'*60)\n",
    "    nn_out_dict, model = train_baseline(nn_model, nn_optimizer, device, train_loader, val_loader, num_epochs=num_epochs)\n",
    "\n",
    "    plot_training_curves(nn_out_dict)\n",
    "\n",
    "    print('-'*60)\n",
    "    print('🧪 Evaluating the model on the test set')\n",
    "    print('-'*60)\n",
    "    evaluate_on_test(model, device, test_loader)\n",
    "\n",
    "    return model\n"
   ]
  },
  {
   "cell_type": "markdown",
   "metadata": {},
   "source": [
    "#### Main model"
   ]
  },
  {
   "cell_type": "code",
   "execution_count": 255,
   "metadata": {},
   "outputs": [],
   "source": [
    "def train_cnn_model(model, optimizer, device, train_loader, val_loader, num_epochs=10, patience=10):\n",
    "    loss_fun = nn.BCEWithLogitsLoss()\n",
    "\n",
    "    best_val_loss = float('inf')  # Initialize with a very large value\n",
    "    patience_counter = 0  # Counter for early stopping\n",
    "\n",
    "    out_dict = {'train_acc': [],\n",
    "                'val_acc': [],\n",
    "                'train_loss': [],\n",
    "                'val_loss': []}\n",
    "\n",
    "\n",
    "    for epoch in tqdm(range(num_epochs), unit='epoch'):\n",
    "        model.train()\n",
    "        train_correct = 0\n",
    "        train_loss = []\n",
    "\n",
    "        for minibatch_no, (data, target) in tqdm(enumerate(train_loader), total=len(train_loader), leave=False):\n",
    "            data, target = data.to(device), target.to(device).float().unsqueeze(1)\n",
    "            optimizer.zero_grad()\n",
    "            output = model(data)\n",
    "            loss = loss_fun(output, target)\n",
    "            loss.backward()\n",
    "            optimizer.step()\n",
    "\n",
    "            train_loss.append(loss.item())\n",
    "            predicted = (torch.sigmoid(output) > 0.5).float()\n",
    "            train_correct += (target == predicted).sum().cpu().item()\n",
    "\n",
    "        train_length = len(train_loader.dataset)\n",
    "        train_acc = train_correct / train_length\n",
    "        train_avg_loss = np.mean(train_loss)\n",
    "\n",
    "        # Appending values only once\n",
    "        out_dict['train_acc'].append(train_acc)\n",
    "        out_dict['train_loss'].append(train_avg_loss)\n",
    "\n",
    "        # validation step\n",
    "        val_loss = []\n",
    "        val_correct = 0\n",
    "        model.eval()\n",
    "        for data, target in val_loader:\n",
    "            data, target = data.to(device), target.to(device).float().unsqueeze(1)\n",
    "            with torch.no_grad():\n",
    "                output = model(data)\n",
    "            val_loss.append(loss_fun(output, target).cpu().item())\n",
    "            predicted = (torch.sigmoid(output) > 0.5).float()\n",
    "            val_correct += (predicted == target).sum().cpu().item()\n",
    "\n",
    "        val_length = len(val_loader.dataset)\n",
    "        val_acc = val_correct / val_length\n",
    "        val_avg_loss = np.mean(val_loss)\n",
    "\n",
    "        # Appending validation values once\n",
    "        out_dict['val_acc'].append(val_acc)\n",
    "        out_dict['val_loss'].append(val_avg_loss)\n",
    "\n",
    "        print(f\"Epoch {epoch+1}/{num_epochs} - \"\n",
    "              f\"Loss train: {train_avg_loss:.3f}\\t Val loss: {val_avg_loss:.3f}\\t\"\n",
    "              f\"Accuracy train: {train_acc*100:.1f}%\\t Val: {val_acc*100:.1f}%\")\n",
    "\n",
    "\n",
    "        # Early stopping logic\n",
    "        if val_avg_loss < best_val_loss:\n",
    "            best_val_loss = val_avg_loss\n",
    "            patience_counter = 0 \n",
    "        else:\n",
    "            patience_counter += 1  # Increment patience counter if no improvement\n",
    "\n",
    "        # If patience limit is reached, stop the training\n",
    "        if patience_counter >= patience:\n",
    "            print(f\"Early stopping triggered at epoch {epoch+1}.\")\n",
    "            break\n",
    "\n",
    "    return out_dict, model\n",
    "\n",
    "\n",
    "def main_cnn(device, train_loader, val_loader, test_loader, num_epochs=10):\n",
    "\n",
    "    # Get the exact mean and std values from the training and test set using the whole dataset\n",
    "    mean_train = torch.tensor([0.5226, 0.4412, 0.3585])\n",
    "    std_train = torch.tensor([0.2697, 0.2632, 0.2736])\n",
    "\n",
    "    mean_test = torch.tensor([0.5263, 0.4474, 0.3654])\n",
    "    std_test = torch.tensor([0.2688, 0.2633, 0.2754])\n",
    "\n",
    "    image_size = 224\n",
    "\n",
    "    train_transform_norm = transforms.Compose([\n",
    "        transforms.Resize((image_size, image_size)),\n",
    "        transforms.ToTensor(),\n",
    "        #transforms.Normalize(mean=mean_train,\n",
    "        #        std=std_train)\n",
    "        ])\n",
    "    test_transform_norm = transforms.Compose([\n",
    "            transforms.Resize((image_size, image_size)),\n",
    "            transforms.ToTensor(),\n",
    "        #    transforms.Normalize(mean=mean_test,\n",
    "        #                        std=std_test)\n",
    "        ])\n",
    "\n",
    "    train_loader.dataset.transform = train_transform_norm\n",
    "    val_loader.dataset.transform = train_transform_norm\n",
    "    test_loader.dataset.transform = test_transform_norm\n",
    "\n",
    "\n",
    "    # Model setup\n",
    "    cnn_model = ChunkyBoyCut().to(device)\n",
    "\n",
    "    optimizer = torch.optim.Adam(cnn_model.parameters(), lr=0.0001, weight_decay=1e-5 )\n",
    "\n",
    "\n",
    "\n",
    "    print('-'*60)\n",
    "    print('🍩 Training the Chunky Model')\n",
    "    print('-'*60)\n",
    "    cnn_out_dict, cnn_model = train_cnn_model(cnn_model, optimizer, device, train_loader, val_loader, num_epochs=num_epochs, patience=5)\n",
    "\n",
    "    plot_training_curves(cnn_out_dict)\n",
    "    print('-'*60)\n",
    "    print('🧪 Evaluating the model on the test set')\n",
    "    print('-'*60)\n",
    "    evaluate_on_test(cnn_model, device, test_loader)\n",
    "\n",
    "    return cnn_model\n"
   ]
  },
  {
   "cell_type": "markdown",
   "metadata": {},
   "source": [
    "### Main Entrypoint\n",
    "\n",
    "Runs all the code as part of one entry point cell"
   ]
  },
  {
   "cell_type": "code",
   "execution_count": 227,
   "metadata": {},
   "outputs": [
    {
     "name": "stdout",
     "output_type": "stream",
     "text": [
      "The number of images in training set is: 1638\n",
      "The number of images in validation set is: 409\n",
      "The number of images in test set is: 1862\n",
      "------------------------------------------------------------\n",
      "🍩 Training the Chunky Model\n",
      "------------------------------------------------------------\n"
     ]
    },
    {
     "data": {
      "application/vnd.jupyter.widget-view+json": {
       "model_id": "ea7cd0151d744ffa84dbced702259d64",
       "version_major": 2,
       "version_minor": 0
      },
      "text/plain": [
       "  0%|          | 0/10 [00:00<?, ?epoch/s]"
      ]
     },
     "metadata": {},
     "output_type": "display_data"
    },
    {
     "data": {
      "application/vnd.jupyter.widget-view+json": {
       "model_id": "98fc55a8b75b4fbba84137d7bb9e7863",
       "version_major": 2,
       "version_minor": 0
      },
      "text/plain": [
       "  0%|          | 0/26 [00:00<?, ?it/s]"
      ]
     },
     "metadata": {},
     "output_type": "display_data"
    },
    {
     "name": "stdout",
     "output_type": "stream",
     "text": [
      "Epoch 1/10 - Loss train: 1.242\t Val loss: 0.670\tAccuracy train: 58.0%\t Val: 60.9%\n"
     ]
    },
    {
     "data": {
      "application/vnd.jupyter.widget-view+json": {
       "model_id": "b91bacfb2bdd4c04abff883fc11d94b4",
       "version_major": 2,
       "version_minor": 0
      },
      "text/plain": [
       "  0%|          | 0/26 [00:00<?, ?it/s]"
      ]
     },
     "metadata": {},
     "output_type": "display_data"
    },
    {
     "name": "stdout",
     "output_type": "stream",
     "text": [
      "Epoch 2/10 - Loss train: 0.596\t Val loss: 0.544\tAccuracy train: 70.6%\t Val: 73.6%\n"
     ]
    },
    {
     "data": {
      "application/vnd.jupyter.widget-view+json": {
       "model_id": "3400ff36e4f7401699d5068fafad24ec",
       "version_major": 2,
       "version_minor": 0
      },
      "text/plain": [
       "  0%|          | 0/26 [00:00<?, ?it/s]"
      ]
     },
     "metadata": {},
     "output_type": "display_data"
    },
    {
     "name": "stdout",
     "output_type": "stream",
     "text": [
      "Epoch 3/10 - Loss train: 0.541\t Val loss: 0.506\tAccuracy train: 74.8%\t Val: 74.8%\n"
     ]
    },
    {
     "data": {
      "application/vnd.jupyter.widget-view+json": {
       "model_id": "7b7e772d5d104d30a10bfa2bab9cf661",
       "version_major": 2,
       "version_minor": 0
      },
      "text/plain": [
       "  0%|          | 0/26 [00:00<?, ?it/s]"
      ]
     },
     "metadata": {},
     "output_type": "display_data"
    },
    {
     "name": "stdout",
     "output_type": "stream",
     "text": [
      "Epoch 4/10 - Loss train: 0.493\t Val loss: 0.494\tAccuracy train: 77.7%\t Val: 78.0%\n"
     ]
    },
    {
     "data": {
      "application/vnd.jupyter.widget-view+json": {
       "model_id": "378048298ec9481aae7987800a82d711",
       "version_major": 2,
       "version_minor": 0
      },
      "text/plain": [
       "  0%|          | 0/26 [00:00<?, ?it/s]"
      ]
     },
     "metadata": {},
     "output_type": "display_data"
    },
    {
     "name": "stdout",
     "output_type": "stream",
     "text": [
      "Epoch 5/10 - Loss train: 0.479\t Val loss: 0.467\tAccuracy train: 78.3%\t Val: 77.3%\n"
     ]
    },
    {
     "data": {
      "application/vnd.jupyter.widget-view+json": {
       "model_id": "0810e60ac6db4fbebfb8b2c3576d5020",
       "version_major": 2,
       "version_minor": 0
      },
      "text/plain": [
       "  0%|          | 0/26 [00:00<?, ?it/s]"
      ]
     },
     "metadata": {},
     "output_type": "display_data"
    },
    {
     "name": "stdout",
     "output_type": "stream",
     "text": [
      "Epoch 6/10 - Loss train: 0.455\t Val loss: 0.457\tAccuracy train: 80.8%\t Val: 79.0%\n"
     ]
    },
    {
     "data": {
      "application/vnd.jupyter.widget-view+json": {
       "model_id": "9178a416bfce40899287c768145fc30c",
       "version_major": 2,
       "version_minor": 0
      },
      "text/plain": [
       "  0%|          | 0/26 [00:00<?, ?it/s]"
      ]
     },
     "metadata": {},
     "output_type": "display_data"
    },
    {
     "name": "stdout",
     "output_type": "stream",
     "text": [
      "Epoch 7/10 - Loss train: 0.435\t Val loss: 0.442\tAccuracy train: 80.3%\t Val: 80.2%\n"
     ]
    },
    {
     "data": {
      "application/vnd.jupyter.widget-view+json": {
       "model_id": "75b347039fc54cb19c874cae3d1a9bd6",
       "version_major": 2,
       "version_minor": 0
      },
      "text/plain": [
       "  0%|          | 0/26 [00:00<?, ?it/s]"
      ]
     },
     "metadata": {},
     "output_type": "display_data"
    },
    {
     "name": "stdout",
     "output_type": "stream",
     "text": [
      "Epoch 8/10 - Loss train: 0.405\t Val loss: 0.445\tAccuracy train: 81.7%\t Val: 79.5%\n"
     ]
    },
    {
     "data": {
      "application/vnd.jupyter.widget-view+json": {
       "model_id": "3b62a0969ec0477dbb5c0c2b632b4efd",
       "version_major": 2,
       "version_minor": 0
      },
      "text/plain": [
       "  0%|          | 0/26 [00:00<?, ?it/s]"
      ]
     },
     "metadata": {},
     "output_type": "display_data"
    },
    {
     "name": "stdout",
     "output_type": "stream",
     "text": [
      "Epoch 9/10 - Loss train: 0.394\t Val loss: 0.418\tAccuracy train: 82.2%\t Val: 80.2%\n"
     ]
    },
    {
     "data": {
      "application/vnd.jupyter.widget-view+json": {
       "model_id": "22c3b387dbf74a5590d53c2ef7ee19ad",
       "version_major": 2,
       "version_minor": 0
      },
      "text/plain": [
       "  0%|          | 0/26 [00:00<?, ?it/s]"
      ]
     },
     "metadata": {},
     "output_type": "display_data"
    },
    {
     "name": "stdout",
     "output_type": "stream",
     "text": [
      "Epoch 10/10 - Loss train: 0.369\t Val loss: 0.433\tAccuracy train: 84.5%\t Val: 80.7%\n"
     ]
    },
    {
     "data": {
      "image/png": "[encoded data removed]",
      "text/plain": [
       "<Figure size 1800x1000 with 2 Axes>"
      ]
     },
     "metadata": {},
     "output_type": "display_data"
    },
    {
     "name": "stdout",
     "output_type": "stream",
     "text": [
      "------------------------------------------------------------\n",
      "🧪 Evaluating the model on the test set\n",
      "------------------------------------------------------------\n",
      "============================================================\n",
      "Test Accuracy: 70.9%\n",
      "============================================================\n"
     ]
    },
    {
     "ename": "RuntimeError",
     "evalue": "Trying to backward through the graph a second time (or directly access saved tensors after they have already been freed). Saved intermediate values of the graph are freed when you call .backward() or autograd.grad(). Specify retain_graph=True if you need to backward through the graph a second time or if you need to access saved tensors after calling backward.",
     "output_type": "error",
     "traceback": [
      "\u001b[0;31m---------------------------------------------------------------------------\u001b[0m",
      "\u001b[0;31mRuntimeError\u001b[0m                              Traceback (most recent call last)",
      "Cell \u001b[0;32mIn[227], line 50\u001b[0m\n\u001b[1;32m     48\u001b[0m     mean_train \u001b[38;5;241m=\u001b[39m mean_train\u001b[38;5;241m.\u001b[39mto(device)\n\u001b[1;32m     49\u001b[0m     std_train \u001b[38;5;241m=\u001b[39m std_train\u001b[38;5;241m.\u001b[39mto(device)\n\u001b[0;32m---> 50\u001b[0m     \u001b[43mvisualize_saliency_maps\u001b[49m\u001b[43m(\u001b[49m\n\u001b[1;32m     51\u001b[0m \u001b[43m    \u001b[49m\u001b[43mmodel\u001b[49m\u001b[38;5;241;43m=\u001b[39;49m\u001b[43mcnn_model\u001b[49m\u001b[43m,\u001b[49m\n\u001b[1;32m     52\u001b[0m \u001b[43m    \u001b[49m\u001b[43mdevice\u001b[49m\u001b[38;5;241;43m=\u001b[39;49m\u001b[43mdevice\u001b[49m\u001b[43m,\u001b[49m\n\u001b[1;32m     53\u001b[0m \u001b[43m    \u001b[49m\u001b[43mdata_loader\u001b[49m\u001b[38;5;241;43m=\u001b[39;49m\u001b[43mtest_loader\u001b[49m\u001b[43m,\u001b[49m\n\u001b[1;32m     54\u001b[0m \u001b[43m    \u001b[49m\u001b[43mnumber_of_images\u001b[49m\u001b[38;5;241;43m=\u001b[39;49m\u001b[38;5;241;43m4\u001b[39;49m\u001b[43m,\u001b[49m\n\u001b[1;32m     55\u001b[0m \u001b[43m    \u001b[49m\u001b[43mmean\u001b[49m\u001b[38;5;241;43m=\u001b[39;49m\u001b[43mmean_train\u001b[49m\u001b[43m,\u001b[49m\n\u001b[1;32m     56\u001b[0m \u001b[43m    \u001b[49m\u001b[43mstd\u001b[49m\u001b[38;5;241;43m=\u001b[39;49m\u001b[43mstd_train\u001b[49m\u001b[43m,\u001b[49m\n\u001b[1;32m     57\u001b[0m \u001b[43m    \u001b[49m\u001b[43mnormalize_input\u001b[49m\u001b[38;5;241;43m=\u001b[39;49m\u001b[38;5;28;43;01mTrue\u001b[39;49;00m\u001b[43m  \u001b[49m\n\u001b[1;32m     58\u001b[0m \u001b[43m    \u001b[49m\u001b[43m)\u001b[49m\n\u001b[1;32m     60\u001b[0m \u001b[38;5;28;01melse\u001b[39;00m:\n\u001b[1;32m     61\u001b[0m     visualize_saliency_maps(\n\u001b[1;32m     62\u001b[0m     model\u001b[38;5;241m=\u001b[39mcnn_model,\n\u001b[1;32m     63\u001b[0m     device\u001b[38;5;241m=\u001b[39mdevice,\n\u001b[0;32m   (...)\u001b[0m\n\u001b[1;32m     68\u001b[0m     normalize_input\u001b[38;5;241m=\u001b[39m\u001b[38;5;28;01mFalse\u001b[39;00m  \n\u001b[1;32m     69\u001b[0m     )\n",
      "Cell \u001b[0;32mIn[223], line 83\u001b[0m, in \u001b[0;36mvisualize_saliency_maps\u001b[0;34m(model, device, data_loader, number_of_images, mean, std, normalize_input)\u001b[0m\n\u001b[1;32m     80\u001b[0m label \u001b[38;5;241m=\u001b[39m labels[i]\n\u001b[1;32m     82\u001b[0m \u001b[38;5;66;03m# Compute the saliency map using SmoothGrad\u001b[39;00m\n\u001b[0;32m---> 83\u001b[0m saliency \u001b[38;5;241m=\u001b[39m \u001b[43msmooth_grad\u001b[49m\u001b[43m(\u001b[49m\n\u001b[1;32m     84\u001b[0m \u001b[43m    \u001b[49m\u001b[43mmodel\u001b[49m\u001b[38;5;241;43m=\u001b[39;49m\u001b[43mmodel\u001b[49m\u001b[43m,\u001b[49m\n\u001b[1;32m     85\u001b[0m \u001b[43m    \u001b[49m\u001b[43mimage\u001b[49m\u001b[38;5;241;43m=\u001b[39;49m\u001b[43mimage\u001b[49m\u001b[43m,\u001b[49m\n\u001b[1;32m     86\u001b[0m \u001b[43m    \u001b[49m\u001b[43mlabel\u001b[49m\u001b[38;5;241;43m=\u001b[39;49m\u001b[43mlabel\u001b[49m\u001b[43m,\u001b[49m\n\u001b[1;32m     87\u001b[0m \u001b[43m    \u001b[49m\u001b[43mdevice\u001b[49m\u001b[38;5;241;43m=\u001b[39;49m\u001b[43mdevice\u001b[49m\u001b[43m,\u001b[49m\n\u001b[1;32m     88\u001b[0m \u001b[43m    \u001b[49m\u001b[43mmean\u001b[49m\u001b[38;5;241;43m=\u001b[39;49m\u001b[43mmean\u001b[49m\u001b[43m,\u001b[49m\n\u001b[1;32m     89\u001b[0m \u001b[43m    \u001b[49m\u001b[43mstd\u001b[49m\u001b[38;5;241;43m=\u001b[39;49m\u001b[43mstd\u001b[49m\u001b[43m,\u001b[49m\n\u001b[1;32m     90\u001b[0m \u001b[43m    \u001b[49m\u001b[43mnormalize_input\u001b[49m\u001b[38;5;241;43m=\u001b[39;49m\u001b[43mnormalize_input\u001b[49m\n\u001b[1;32m     91\u001b[0m \u001b[43m\u001b[49m\u001b[43m)\u001b[49m\n\u001b[1;32m     93\u001b[0m \u001b[38;5;66;03m# Plot original image\u001b[39;00m\n\u001b[1;32m     94\u001b[0m ax_img \u001b[38;5;241m=\u001b[39m axes[images_displayed, \u001b[38;5;241m0\u001b[39m] \u001b[38;5;28;01mif\u001b[39;00m number_of_images \u001b[38;5;241m>\u001b[39m \u001b[38;5;241m1\u001b[39m \u001b[38;5;28;01melse\u001b[39;00m axes[\u001b[38;5;241m0\u001b[39m]\n",
      "Cell \u001b[0;32mIn[223], line 39\u001b[0m, in \u001b[0;36msmooth_grad\u001b[0;34m(model, image, label, device, mean, std, normalize_input, stdev_spread, n_samples, magnitude)\u001b[0m\n\u001b[1;32m     37\u001b[0m \u001b[38;5;28;01mif\u001b[39;00m image\u001b[38;5;241m.\u001b[39mgrad \u001b[38;5;129;01mis\u001b[39;00m \u001b[38;5;129;01mnot\u001b[39;00m \u001b[38;5;28;01mNone\u001b[39;00m:\n\u001b[1;32m     38\u001b[0m     image\u001b[38;5;241m.\u001b[39mgrad\u001b[38;5;241m.\u001b[39mzero_()\n\u001b[0;32m---> 39\u001b[0m \u001b[43mloss\u001b[49m\u001b[38;5;241;43m.\u001b[39;49m\u001b[43mbackward\u001b[49m\u001b[43m(\u001b[49m\u001b[43m)\u001b[49m\n\u001b[1;32m     41\u001b[0m \u001b[38;5;66;03m# Get gradients\u001b[39;00m\n\u001b[1;32m     42\u001b[0m \u001b[38;5;28;01mif\u001b[39;00m normalize_input:\n\u001b[1;32m     43\u001b[0m     \u001b[38;5;66;03m# Adjust gradients back to the original image space using chain rule\u001b[39;00m\n",
      "File \u001b[0;32m~/miniconda3/envs/02516-dl-in-cv/lib/python3.12/site-packages/torch/_tensor.py:521\u001b[0m, in \u001b[0;36mTensor.backward\u001b[0;34m(self, gradient, retain_graph, create_graph, inputs)\u001b[0m\n\u001b[1;32m    511\u001b[0m \u001b[38;5;28;01mif\u001b[39;00m has_torch_function_unary(\u001b[38;5;28mself\u001b[39m):\n\u001b[1;32m    512\u001b[0m     \u001b[38;5;28;01mreturn\u001b[39;00m handle_torch_function(\n\u001b[1;32m    513\u001b[0m         Tensor\u001b[38;5;241m.\u001b[39mbackward,\n\u001b[1;32m    514\u001b[0m         (\u001b[38;5;28mself\u001b[39m,),\n\u001b[0;32m   (...)\u001b[0m\n\u001b[1;32m    519\u001b[0m         inputs\u001b[38;5;241m=\u001b[39minputs,\n\u001b[1;32m    520\u001b[0m     )\n\u001b[0;32m--> 521\u001b[0m \u001b[43mtorch\u001b[49m\u001b[38;5;241;43m.\u001b[39;49m\u001b[43mautograd\u001b[49m\u001b[38;5;241;43m.\u001b[39;49m\u001b[43mbackward\u001b[49m\u001b[43m(\u001b[49m\n\u001b[1;32m    522\u001b[0m \u001b[43m    \u001b[49m\u001b[38;5;28;43mself\u001b[39;49m\u001b[43m,\u001b[49m\u001b[43m \u001b[49m\u001b[43mgradient\u001b[49m\u001b[43m,\u001b[49m\u001b[43m \u001b[49m\u001b[43mretain_graph\u001b[49m\u001b[43m,\u001b[49m\u001b[43m \u001b[49m\u001b[43mcreate_graph\u001b[49m\u001b[43m,\u001b[49m\u001b[43m \u001b[49m\u001b[43minputs\u001b[49m\u001b[38;5;241;43m=\u001b[39;49m\u001b[43minputs\u001b[49m\n\u001b[1;32m    523\u001b[0m \u001b[43m\u001b[49m\u001b[43m)\u001b[49m\n",
      "File \u001b[0;32m~/miniconda3/envs/02516-dl-in-cv/lib/python3.12/site-packages/torch/autograd/__init__.py:289\u001b[0m, in \u001b[0;36mbackward\u001b[0;34m(tensors, grad_tensors, retain_graph, create_graph, grad_variables, inputs)\u001b[0m\n\u001b[1;32m    284\u001b[0m     retain_graph \u001b[38;5;241m=\u001b[39m create_graph\n\u001b[1;32m    286\u001b[0m \u001b[38;5;66;03m# The reason we repeat the same comment below is that\u001b[39;00m\n\u001b[1;32m    287\u001b[0m \u001b[38;5;66;03m# some Python versions print out the first line of a multi-line function\u001b[39;00m\n\u001b[1;32m    288\u001b[0m \u001b[38;5;66;03m# calls in the traceback and some print out the last line\u001b[39;00m\n\u001b[0;32m--> 289\u001b[0m \u001b[43m_engine_run_backward\u001b[49m\u001b[43m(\u001b[49m\n\u001b[1;32m    290\u001b[0m \u001b[43m    \u001b[49m\u001b[43mtensors\u001b[49m\u001b[43m,\u001b[49m\n\u001b[1;32m    291\u001b[0m \u001b[43m    \u001b[49m\u001b[43mgrad_tensors_\u001b[49m\u001b[43m,\u001b[49m\n\u001b[1;32m    292\u001b[0m \u001b[43m    \u001b[49m\u001b[43mretain_graph\u001b[49m\u001b[43m,\u001b[49m\n\u001b[1;32m    293\u001b[0m \u001b[43m    \u001b[49m\u001b[43mcreate_graph\u001b[49m\u001b[43m,\u001b[49m\n\u001b[1;32m    294\u001b[0m \u001b[43m    \u001b[49m\u001b[43minputs\u001b[49m\u001b[43m,\u001b[49m\n\u001b[1;32m    295\u001b[0m \u001b[43m    \u001b[49m\u001b[43mallow_unreachable\u001b[49m\u001b[38;5;241;43m=\u001b[39;49m\u001b[38;5;28;43;01mTrue\u001b[39;49;00m\u001b[43m,\u001b[49m\n\u001b[1;32m    296\u001b[0m \u001b[43m    \u001b[49m\u001b[43maccumulate_grad\u001b[49m\u001b[38;5;241;43m=\u001b[39;49m\u001b[38;5;28;43;01mTrue\u001b[39;49;00m\u001b[43m,\u001b[49m\n\u001b[1;32m    297\u001b[0m \u001b[43m\u001b[49m\u001b[43m)\u001b[49m\n",
      "File \u001b[0;32m~/miniconda3/envs/02516-dl-in-cv/lib/python3.12/site-packages/torch/autograd/graph.py:769\u001b[0m, in \u001b[0;36m_engine_run_backward\u001b[0;34m(t_outputs, *args, **kwargs)\u001b[0m\n\u001b[1;32m    767\u001b[0m     unregister_hooks \u001b[38;5;241m=\u001b[39m _register_logging_hooks_on_whole_graph(t_outputs)\n\u001b[1;32m    768\u001b[0m \u001b[38;5;28;01mtry\u001b[39;00m:\n\u001b[0;32m--> 769\u001b[0m     \u001b[38;5;28;01mreturn\u001b[39;00m \u001b[43mVariable\u001b[49m\u001b[38;5;241;43m.\u001b[39;49m\u001b[43m_execution_engine\u001b[49m\u001b[38;5;241;43m.\u001b[39;49m\u001b[43mrun_backward\u001b[49m\u001b[43m(\u001b[49m\u001b[43m  \u001b[49m\u001b[38;5;66;43;03m# Calls into the C++ engine to run the backward pass\u001b[39;49;00m\n\u001b[1;32m    770\u001b[0m \u001b[43m        \u001b[49m\u001b[43mt_outputs\u001b[49m\u001b[43m,\u001b[49m\u001b[43m \u001b[49m\u001b[38;5;241;43m*\u001b[39;49m\u001b[43margs\u001b[49m\u001b[43m,\u001b[49m\u001b[43m \u001b[49m\u001b[38;5;241;43m*\u001b[39;49m\u001b[38;5;241;43m*\u001b[39;49m\u001b[43mkwargs\u001b[49m\n\u001b[1;32m    771\u001b[0m \u001b[43m    \u001b[49m\u001b[43m)\u001b[49m  \u001b[38;5;66;03m# Calls into the C++ engine to run the backward pass\u001b[39;00m\n\u001b[1;32m    772\u001b[0m \u001b[38;5;28;01mfinally\u001b[39;00m:\n\u001b[1;32m    773\u001b[0m     \u001b[38;5;28;01mif\u001b[39;00m attach_logging_hooks:\n",
      "\u001b[0;31mRuntimeError\u001b[0m: Trying to backward through the graph a second time (or directly access saved tensors after they have already been freed). Saved intermediate values of the graph are freed when you call .backward() or autograd.grad(). Specify retain_graph=True if you need to backward through the graph a second time or if you need to access saved tensors after calling backward."
     ]
    },
    {
     "data": {
      "image/png": "[encoded data removed]",
      "text/plain": [
       "<Figure size 1200x2400 with 8 Axes>"
      ]
     },
     "metadata": {},
     "output_type": "display_data"
    }
   ],
   "source": [
    "#####################\n",
    "## MAIN ENTRY POINT #\n",
    "#####################\n",
    "# NOTE FOR MADS: Yes the code has comments, but it is actually written by me. Not our friend. Me\n",
    "\n",
    "# SET FLAGS\n",
    "TRAIN_BASELINE = True \n",
    "TRAIN_CNN = True\n",
    "VISUALIZE_SAMPLES = True \n",
    "VISUALIZE_SALIENCY = True\n",
    "VISUALIZE_FEATURE_MAPS = True \n",
    "MODEL_TRAINED_ON_NORMALIZED_DATA = False # necessary for smoothgrad to work correctly\n",
    "\n",
    "# PATH TO THE DATA (same location as this notebook - has test and train subfolders)\n",
    "data = 'data'\n",
    "\n",
    "# SET PLOT STYLE to DTU colours and stuff (TODO: change the background there so it matches the poster's background)\n",
    "set_plot_style()\n",
    "\n",
    "# SET DEVICE\n",
    "if torch.backends.mps.is_built():\n",
    "    device = torch.device('mps')\n",
    "elif torch.cuda.is_available():\n",
    "    device = torch.device('cuda')\n",
    "else:\n",
    "    device = torch.device('cpu')\n",
    "\n",
    "# LOAD DATA FOR BASELINE (size 128)\n",
    "train_loader, val_loader, test_loader = load_data(data, batch_size=64, image_size=128, validation_split=0.2)\n",
    "\n",
    "if VISUALIZE_SAMPLES:\n",
    "    visualize_samples(train_loader)\n",
    "\n",
    "if TRAIN_BASELINE:\n",
    "    nn_model = main_baseline(device, train_loader, val_loader, test_loader, num_epochs=10)\n",
    "\n",
    "if TRAIN_CNN:\n",
    "    # LOAD DATA FOR CNN (size 224)\n",
    "    train_loader, val_loader, test_loader = load_data(data, batch_size=64, image_size=224, validation_split=0.2, verbose=False)\n",
    "    cnn_model = main_cnn(device, train_loader, val_loader, test_loader, num_epochs=5)\n",
    "\n",
    "if VISUALIZE_SALIENCY:\n",
    "    if MODEL_TRAINED_ON_NORMALIZED_DATA:\n",
    "        # SmoothGrad\n",
    "        # Mean and std used during training\n",
    "        mean_train = train_loader.dataset.transform.transforms[-1].mean\n",
    "        std_train = train_loader.dataset.transform.transforms[-1].std\n",
    "        mean_train = mean_train.to(device)\n",
    "        std_train = std_train.to(device)\n",
    "        visualize_saliency_maps(\n",
    "        model=cnn_model,\n",
    "        device=device,\n",
    "        data_loader=test_loader,\n",
    "        number_of_images=4,\n",
    "        mean=mean_train,\n",
    "        std=std_train,\n",
    "        normalize_input=True  \n",
    "        )\n",
    "\n",
    "    else:\n",
    "        visualize_saliency_maps(\n",
    "        model=cnn_model,\n",
    "        device=device,\n",
    "        data_loader=test_loader,\n",
    "        number_of_images=4,\n",
    "        mean=None,\n",
    "        std=None,\n",
    "        normalize_input=False  \n",
    "        )\n",
    "\n",
    "\n",
    "    # GradCAM\n",
    "    # TODO: Mads code\n",
    "\n",
    "if VISUALIZE_FEATURE_MAPS:\n",
    "    cut_point = 1  # choose 1 to 4 based on our architecture\n",
    "    num_images_to_display = 2\n",
    "    visualize_feature_maps(cnn_model, device, test_loader, cut=cut_point, num_images=num_images_to_display)"
   ]
  }
 ],
 "metadata": {
  "kernelspec": {
   "display_name": "02516-dl-in-cv",
   "language": "python",
   "name": "python3"
  },
  "language_info": {
   "codemirror_mode": {
    "name": "ipython",
    "version": 3
   },
   "file_extension": ".py",
   "mimetype": "text/x-python",
   "name": "python",
   "nbconvert_exporter": "python",
   "pygments_lexer": "ipython3",
   "version": "3.12.4"
  }
 },
 "nbformat": 4,
 "nbformat_minor": 2
}
